{
 "cells": [
  {
   "cell_type": "code",
   "execution_count": 34,
   "metadata": {
    "collapsed": false
   },
   "outputs": [],
   "source": [
    "library(cleanEHR)\n",
    "# data.path <- \"./inst/doc/sample_ccd.RData\"\n",
    "data.path <- \"./inst/doc/anon_public1000.RData\"\n",
    "load(data.path)"
   ]
  },
  {
   "cell_type": "code",
   "execution_count": 35,
   "metadata": {
    "collapsed": false
   },
   "outputs": [],
   "source": [
    "infotb <- ccd@infotb"
   ]
  },
  {
   "cell_type": "code",
   "execution_count": 36,
   "metadata": {
    "collapsed": false
   },
   "outputs": [
    {
     "name": "stdout",
     "output_type": "stream",
     "text": [
      " [1] \"site_id\"     \"episode_id\"  \"nhs_number\"  \"pas_number\"  \"t_admission\"\n",
      " [6] \"t_discharge\" \"parse_file\"  \"parse_time\"  \"pid\"         \"index\"      \n",
      "   site_id           episode_id         nhs_number         pas_number       \n",
      " Length:30          Length:30          Length:30          Length:30         \n",
      " Class :character   Class :character   Class :character   Class :character  \n",
      " Mode  :character   Mode  :character   Mode  :character   Mode  :character  \n",
      "                                                                            \n",
      "                                                                            \n",
      "                                                                            \n",
      "                                                                            \n",
      "  t_admission                   t_discharge  parse_file          parse_time\n",
      " Min.   :1970-01-01 01:00:00   Min.   :NA   Length:30          Min.   :NA  \n",
      " 1st Qu.:1970-01-01 01:00:00   1st Qu.:NA   Class :character   1st Qu.:NA  \n",
      " Median :1970-01-01 01:00:00   Median :NA   Mode  :character   Median :NA  \n",
      " Mean   :1970-01-01 01:00:00   Mean   :NA                      Mean   :NA  \n",
      " 3rd Qu.:1970-01-01 01:00:00   3rd Qu.:NA                      3rd Qu.:NA  \n",
      " Max.   :1970-01-01 01:00:00   Max.   :NA                      Max.   :NA  \n",
      "                               NA's   :30                      NA's   :30  \n",
      "      pid            index      \n",
      " Min.   : 1.00   Min.   : 1.00  \n",
      " 1st Qu.: 8.25   1st Qu.: 8.25  \n",
      " Median :15.50   Median :15.50  \n",
      " Mean   :15.50   Mean   :15.50  \n",
      " 3rd Qu.:22.75   3rd Qu.:22.75  \n",
      " Max.   :30.00   Max.   :30.00  \n",
      "                                \n"
     ]
    }
   ],
   "source": [
    "print(names(infotb))\n",
    "print(summary(infotb))"
   ]
  },
  {
   "cell_type": "code",
   "execution_count": 37,
   "metadata": {
    "collapsed": false
   },
   "outputs": [
    {
     "name": "stdout",
     "output_type": "stream",
     "text": [
      "Classes ‘data.table’ and 'data.frame':\t30 obs. of  10 variables:\n",
      " $ site_id    : chr  \"pseudo_site\" \"pseudo_site\" \"pseudo_site\" \"pseudo_site\" ...\n",
      " $ episode_id : chr  \"1\" \"2\" \"3\" \"4\" ...\n",
      " $ nhs_number : chr  \"NA\" \"NA\" \"NA\" \"NA\" ...\n",
      " $ pas_number : chr  \"NA\" \"NA\" \"NA\" \"NA\" ...\n",
      " $ t_admission: POSIXct, format: \"1970-01-01 01:00:00\" \"1970-01-01 01:00:00\" ...\n",
      " $ t_discharge: POSIXct, format: NA NA ...\n",
      " $ parse_file : chr  \"NA\" \"NA\" \"NA\" \"NA\" ...\n",
      " $ parse_time : POSIXct, format: NA NA ...\n",
      " $ pid        : int  1 2 3 4 5 6 7 8 9 10 ...\n",
      " $ index      : int  1 2 3 4 5 6 7 8 9 10 ...\n",
      " - attr(*, \".internal.selfref\")=<externalptr> \n"
     ]
    }
   ],
   "source": [
    "str(infotb)"
   ]
  },
  {
   "cell_type": "code",
   "execution_count": 26,
   "metadata": {
    "collapsed": false,
    "scrolled": true
   },
   "outputs": [
    {
     "data": {
      "text/html": [
       "<table>\n",
       "<thead><tr><th scope=col>site_id</th><th scope=col>episode_id</th><th scope=col>nhs_number</th><th scope=col>pas_number</th><th scope=col>t_admission</th><th scope=col>t_discharge</th><th scope=col>parse_file</th><th scope=col>parse_time</th><th scope=col>pid</th><th scope=col>index</th></tr></thead>\n",
       "<tbody>\n",
       "\t<tr><td>pseudo_site        </td><td>1                  </td><td>NA                 </td><td>NA                 </td><td>1970-01-01 01:00:00</td><td>NA                 </td><td>NA                 </td><td>NA                 </td><td>1                  </td><td>1                  </td></tr>\n",
       "\t<tr><td>pseudo_site        </td><td>2                  </td><td>NA                 </td><td>NA                 </td><td>1970-01-01 01:00:00</td><td>NA                 </td><td>NA                 </td><td>NA                 </td><td>2                  </td><td>2                  </td></tr>\n",
       "\t<tr><td>pseudo_site        </td><td>3                  </td><td>NA                 </td><td>NA                 </td><td>1970-01-01 01:00:00</td><td>NA                 </td><td>NA                 </td><td>NA                 </td><td>3                  </td><td>3                  </td></tr>\n",
       "\t<tr><td>pseudo_site        </td><td>4                  </td><td>NA                 </td><td>NA                 </td><td>1970-01-01 01:00:00</td><td>NA                 </td><td>NA                 </td><td>NA                 </td><td>4                  </td><td>4                  </td></tr>\n",
       "\t<tr><td>pseudo_site        </td><td>5                  </td><td>NA                 </td><td>NA                 </td><td>1970-01-01 01:00:00</td><td>NA                 </td><td>NA                 </td><td>NA                 </td><td>5                  </td><td>5                  </td></tr>\n",
       "\t<tr><td>pseudo_site        </td><td>6                  </td><td>NA                 </td><td>NA                 </td><td>1970-01-01 01:00:00</td><td>NA                 </td><td>NA                 </td><td>NA                 </td><td>6                  </td><td>6                  </td></tr>\n",
       "</tbody>\n",
       "</table>\n"
      ],
      "text/latex": [
       "\\begin{tabular}{r|llllllllll}\n",
       " site\\_id & episode\\_id & nhs\\_number & pas\\_number & t\\_admission & t\\_discharge & parse\\_file & parse\\_time & pid & index\\\\\n",
       "\\hline\n",
       "\t pseudo\\_site       & 1                   & NA                  & NA                  & 1970-01-01 01:00:00 & NA                  & NA                  & NA                  & 1                   & 1                  \\\\\n",
       "\t pseudo\\_site       & 2                   & NA                  & NA                  & 1970-01-01 01:00:00 & NA                  & NA                  & NA                  & 2                   & 2                  \\\\\n",
       "\t pseudo\\_site       & 3                   & NA                  & NA                  & 1970-01-01 01:00:00 & NA                  & NA                  & NA                  & 3                   & 3                  \\\\\n",
       "\t pseudo\\_site       & 4                   & NA                  & NA                  & 1970-01-01 01:00:00 & NA                  & NA                  & NA                  & 4                   & 4                  \\\\\n",
       "\t pseudo\\_site       & 5                   & NA                  & NA                  & 1970-01-01 01:00:00 & NA                  & NA                  & NA                  & 5                   & 5                  \\\\\n",
       "\t pseudo\\_site       & 6                   & NA                  & NA                  & 1970-01-01 01:00:00 & NA                  & NA                  & NA                  & 6                   & 6                  \\\\\n",
       "\\end{tabular}\n"
      ],
      "text/markdown": [
       "\n",
       "site_id | episode_id | nhs_number | pas_number | t_admission | t_discharge | parse_file | parse_time | pid | index | \n",
       "|---|---|---|---|---|---|\n",
       "| pseudo_site         | 1                   | NA                  | NA                  | 1970-01-01 01:00:00 | NA                  | NA                  | NA                  | 1                   | 1                   | \n",
       "| pseudo_site         | 2                   | NA                  | NA                  | 1970-01-01 01:00:00 | NA                  | NA                  | NA                  | 2                   | 2                   | \n",
       "| pseudo_site         | 3                   | NA                  | NA                  | 1970-01-01 01:00:00 | NA                  | NA                  | NA                  | 3                   | 3                   | \n",
       "| pseudo_site         | 4                   | NA                  | NA                  | 1970-01-01 01:00:00 | NA                  | NA                  | NA                  | 4                   | 4                   | \n",
       "| pseudo_site         | 5                   | NA                  | NA                  | 1970-01-01 01:00:00 | NA                  | NA                  | NA                  | 5                   | 5                   | \n",
       "| pseudo_site         | 6                   | NA                  | NA                  | 1970-01-01 01:00:00 | NA                  | NA                  | NA                  | 6                   | 6                   | \n",
       "\n",
       "\n"
      ],
      "text/plain": [
       "  site_id     episode_id nhs_number pas_number t_admission         t_discharge\n",
       "1 pseudo_site 1          NA         NA         1970-01-01 01:00:00 <NA>       \n",
       "2 pseudo_site 2          NA         NA         1970-01-01 01:00:00 <NA>       \n",
       "3 pseudo_site 3          NA         NA         1970-01-01 01:00:00 <NA>       \n",
       "4 pseudo_site 4          NA         NA         1970-01-01 01:00:00 <NA>       \n",
       "5 pseudo_site 5          NA         NA         1970-01-01 01:00:00 <NA>       \n",
       "6 pseudo_site 6          NA         NA         1970-01-01 01:00:00 <NA>       \n",
       "  parse_file parse_time pid index\n",
       "1 NA         <NA>       1   1    \n",
       "2 NA         <NA>       2   2    \n",
       "3 NA         <NA>       3   3    \n",
       "4 NA         <NA>       4   4    \n",
       "5 NA         <NA>       5   5    \n",
       "6 NA         <NA>       6   6    "
      ]
     },
     "metadata": {},
     "output_type": "display_data"
    }
   ],
   "source": [
    "head(infotb)"
   ]
  },
  {
   "cell_type": "code",
   "execution_count": 27,
   "metadata": {
    "collapsed": false
   },
   "outputs": [
    {
     "data": {
      "text/html": [
       "'pseudo_site'"
      ],
      "text/latex": [
       "'pseudo\\_site'"
      ],
      "text/markdown": [
       "'pseudo_site'"
      ],
      "text/plain": [
       "[1] \"pseudo_site\""
      ]
     },
     "metadata": {},
     "output_type": "display_data"
    }
   ],
   "source": [
    "infotb$\"site_id\"[1]"
   ]
  },
  {
   "cell_type": "code",
   "execution_count": null,
   "metadata": {
    "collapsed": true
   },
   "outputs": [],
   "source": []
  }
 ],
 "metadata": {
  "anaconda-cloud": {},
  "kernelspec": {
   "display_name": "R",
   "language": "R",
   "name": "ir"
  },
  "language_info": {
   "codemirror_mode": "r",
   "file_extension": ".r",
   "mimetype": "text/x-r-source",
   "name": "R",
   "pygments_lexer": "r",
   "version": "3.3.2"
  }
 },
 "nbformat": 4,
 "nbformat_minor": 1
}
