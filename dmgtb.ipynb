{
 "cells": [
  {
   "cell_type": "code",
   "execution_count": 20,
   "metadata": {
    "collapsed": false
   },
   "outputs": [],
   "source": [
    "library(cleanEHR)\n",
    "# data.path <- \"./inst/doc/sample_ccd.RData\"\n",
    "data.path <- \"./inst/doc/anon_public1000.RData\"\n",
    "load(data.path)"
   ]
  },
  {
   "cell_type": "code",
   "execution_count": 21,
   "metadata": {
    "collapsed": false
   },
   "outputs": [
    {
     "name": "stdout",
     "output_type": "stream",
     "text": [
      "[1] 0\n",
      "character(0)\n",
      "[1] \".Data\"     \"names\"     \"row.names\" \".S3Class\" \n",
      "[1] \"data.table\" \"data.frame\"\n"
     ]
    }
   ],
   "source": [
    "dmgtb <- ccd@dmgtb\n",
    "print(length(dmgtb))\n",
    "print(names(dmgtb))\n",
    "print(slotNames(dmgtb))\n",
    "print(class(dmgtb))"
   ]
  },
  {
   "cell_type": "code",
   "execution_count": 23,
   "metadata": {
    "collapsed": false
   },
   "outputs": [
    {
     "name": "stdout",
     "output_type": "stream",
     "text": [
      "Classes ‘data.table’ and 'data.frame':\t0 obs. of  0 variables\n",
      " - attr(*, \".internal.selfref\")=<externalptr> \n",
      "NULL\n"
     ]
    }
   ],
   "source": [
    "print (str(dmgtb))"
   ]
  },
  {
   "cell_type": "code",
   "execution_count": null,
   "metadata": {
    "collapsed": true
   },
   "outputs": [],
   "source": []
  }
 ],
 "metadata": {
  "anaconda-cloud": {},
  "kernelspec": {
   "display_name": "R",
   "language": "R",
   "name": "ir"
  },
  "language_info": {
   "codemirror_mode": "r",
   "file_extension": ".r",
   "mimetype": "text/x-r-source",
   "name": "R",
   "pygments_lexer": "r",
   "version": "3.3.2"
  }
 },
 "nbformat": 4,
 "nbformat_minor": 1
}
